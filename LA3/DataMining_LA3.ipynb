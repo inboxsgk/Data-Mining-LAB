{
  "nbformat": 4,
  "nbformat_minor": 0,
  "metadata": {
    "colab": {
      "provenance": []
    },
    "kernelspec": {
      "name": "python3",
      "display_name": "Python 3"
    },
    "language_info": {
      "name": "python"
    }
  },
  "cells": [
    {
      "cell_type": "markdown",
      "source": [
        "Gowtham Karthikeyan S\n",
        "\n",
        "21BBS0157\n",
        "\n",
        "Course: Data Mining and Analytics (CBS3007)\n"
      ],
      "metadata": {
        "id": "ztsXyX9LFlK2"
      }
    },
    {
      "cell_type": "markdown",
      "source": [
        "Import Required Modules"
      ],
      "metadata": {
        "id": "we62PKFH-iy2"
      }
    },
    {
      "cell_type": "code",
      "source": [
        "import pandas as pd\n",
        "from sklearn.model_selection import train_test_split\n",
        "from sklearn.neighbors import KNeighborsClassifier\n",
        "from sklearn.metrics import accuracy_score\n",
        "\n",
        "from sklearn.linear_model import LinearRegression\n",
        "from sklearn.metrics import mean_squared_error, r2_score\n",
        "import datetime\n",
        "\n",
        "from sklearn.ensemble import RandomForestClassifier\n",
        "from sklearn.preprocessing import OneHotEncoder"
      ],
      "metadata": {
        "id": "GGm9Iu0HPJLi"
      },
      "execution_count": 2,
      "outputs": []
    },
    {
      "cell_type": "markdown",
      "source": [
        "Question 1: Collect the student attendance and performance dataset of your classroom to identify students who are likely to drop out or fail early. Implement the KNN to classify the above cases and display the list of students and their classes as per classifications."
      ],
      "metadata": {
        "id": "-AnkMPZMPnUi"
      }
    },
    {
      "cell_type": "code",
      "execution_count": 5,
      "metadata": {
        "colab": {
          "base_uri": "https://localhost:8080/"
        },
        "id": "Pv1LGLJSMB5P",
        "outputId": "953ca546-e262-4c7d-cd98-9a13e0fc9cd3"
      },
      "outputs": [
        {
          "output_type": "stream",
          "name": "stdout",
          "text": [
            "Accuracy: 1.0\n",
            "\n",
            "Student Classifications in test data:\n",
            "Predicted Dropout: [0 0 0 0 1 0 0 1 0 1]\n",
            "Expected Dropout: [0 0 0 0 1 0 0 1 0 1]\n"
          ]
        }
      ],
      "source": [
        "data = pd.read_csv('student.csv')\n",
        "\n",
        "features = [\"Attendance\", \"Assignments\", \"Tests\", \"Overall Grade\"]\n",
        "target = \"Dropout\"\n",
        "\n",
        "X = data[features]\n",
        "y = data[target]\n",
        "\n",
        "X_train, X_test, y_train, y_test = train_test_split(X, y, test_size=0.2, random_state=42)\n",
        "\n",
        "knn = KNeighborsClassifier(n_neighbors=5)\n",
        "\n",
        "knn.fit(X_train, y_train)\n",
        "\n",
        "y_pred = knn.predict(X_test)\n",
        "\n",
        "accuracy = accuracy_score(y_test, y_pred)\n",
        "print(f\"Accuracy: {accuracy}\")\n",
        "\n",
        "data[\"Predicted Dropout\"] = knn.predict(data[features])\n",
        "\n",
        "print(\"\\nStudent Classifications in test data:\")\n",
        "print(\"Predicted Dropout:\", y_pred)\n",
        "print(\"Expected Dropout:\", y_test.values)"
      ]
    },
    {
      "cell_type": "code",
      "source": [],
      "metadata": {
        "id": "5KXaLwHtPhif"
      },
      "execution_count": null,
      "outputs": []
    },
    {
      "cell_type": "markdown",
      "source": [
        "Question 2: Linear regression of 2 variables is to use one variable to forecast another variable value. Collect the DEMAT account counts of Indians for the past 60 months.\n",
        "Implement the Linear regression Technique to predict what will be count in JAN2025 in future. Collect the real time sample data from news sources to perform the algorithm."
      ],
      "metadata": {
        "id": "zQfd1V2UTScR"
      }
    },
    {
      "cell_type": "code",
      "source": [
        "df = pd.read_csv('demat.csv')\n",
        "\n",
        "df['date'] = pd.to_datetime(df['date'])\n",
        "df['days_since_start'] = (df['date'] - df['date'].min()).dt.days\n",
        "\n",
        "\n",
        "X = df[['days_since_start']]\n",
        "y = df['no_of_active_accounts']\n",
        "\n",
        "X_train, X_test, y_train, y_test = train_test_split(X, y, test_size=0.2, random_state=42)\n",
        "\n",
        "model = LinearRegression()\n",
        "\n",
        "model.fit(X_train, y_train)\n",
        "\n",
        "y_pred = model.predict(X_test)\n",
        "\n",
        "mse = mean_squared_error(y_test, y_pred)\n",
        "r2 = r2_score(y_test, y_pred)\n",
        "\n",
        "print(f\"Mean Squared Error: {mse}\")\n",
        "print(f\"R-squared: {r2}\")\n",
        "\n",
        "future_date = datetime.datetime(2025, 1, 1)\n",
        "days_since_start_future = (future_date - df['date'].min()).days\n",
        "predicted_count = model.predict([[days_since_start_future]])\n",
        "\n",
        "print(f\"\\nPredicted DEMAT account count in January 2025: {predicted_count[0]}\\n\")"
      ],
      "metadata": {
        "colab": {
          "base_uri": "https://localhost:8080/"
        },
        "id": "_Humlq3Npac9",
        "outputId": "35e06036-164b-4e84-a73b-a530a4e2c2db"
      },
      "execution_count": 40,
      "outputs": [
        {
          "output_type": "stream",
          "name": "stdout",
          "text": [
            "Mean Squared Error: 2311164810817.863\n",
            "R-squared: 0.9475746316458566\n",
            "\n",
            "Predicted DEMAT account count in January 2025: 37931455.92653696\n",
            "\n"
          ]
        },
        {
          "output_type": "stream",
          "name": "stderr",
          "text": [
            "/usr/local/lib/python3.10/dist-packages/sklearn/base.py:493: UserWarning: X does not have valid feature names, but LinearRegression was fitted with feature names\n",
            "  warnings.warn(\n"
          ]
        }
      ]
    },
    {
      "cell_type": "markdown",
      "source": [
        "Question 3: Implement the Random Forest Supervised Machine Learning Algorithm that is used widely in multi-Classifications in Fruits dataset. (Assume own dataset at least 50 entries)."
      ],
      "metadata": {
        "id": "8Svm5B6rrzf2"
      }
    },
    {
      "cell_type": "code",
      "source": [
        "data = pd.read_csv('fruits.csv')\n",
        "\n",
        "features = data[['color', 'texture', 'shape', 'size', 'weight']]\n",
        "labels = data['class']\n",
        "\n",
        "X_train, X_test, y_train, y_test = train_test_split(features, labels, test_size=0.2)\n",
        "encoder = OneHotEncoder()\n",
        "X_train_encoded = encoder.fit_transform(X_train)\n",
        "X_test_encoded = encoder.transform(X_test)\n",
        "\n",
        "model = RandomForestClassifier()\n",
        "model.fit(X_train_encoded, y_train)\n",
        "\n",
        "\n",
        "score = model.score(X_test_encoded, y_test)\n",
        "print('Test accuracy:', score)\n",
        "\n",
        "\n",
        "new_data = pd.DataFrame({\n",
        "    'color': ['green'],\n",
        "    'texture': ['smooth'],\n",
        "    'shape': ['round'],\n",
        "    'size': ['small'],\n",
        "    'weight': [50]\n",
        "})\n",
        "new_data_encoded = encoder.transform(new_data)\n",
        "prediction = model.predict(new_data_encoded)\n",
        "print('Predicted class:', prediction[0])"
      ],
      "metadata": {
        "colab": {
          "base_uri": "https://localhost:8080/"
        },
        "id": "oiiRCNKpr1G6",
        "outputId": "cf0e0f44-e056-4d2b-e6d0-cd523b37910b"
      },
      "execution_count": 13,
      "outputs": [
        {
          "output_type": "stream",
          "name": "stdout",
          "text": [
            "Test accuracy: 0.4444444444444444\n",
            "Predicted class: lime\n"
          ]
        }
      ]
    },
    {
      "cell_type": "markdown",
      "source": [],
      "metadata": {
        "id": "ThE6Wpe5tkjE"
      }
    }
  ]
}