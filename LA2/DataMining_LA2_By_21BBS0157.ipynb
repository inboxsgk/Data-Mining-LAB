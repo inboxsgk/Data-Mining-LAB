{
  "nbformat": 4,
  "nbformat_minor": 0,
  "metadata": {
    "colab": {
      "provenance": []
    },
    "kernelspec": {
      "name": "python3",
      "display_name": "Python 3"
    },
    "language_info": {
      "name": "python"
    }
  },
  "cells": [
    {
      "cell_type": "markdown",
      "source": [
        "#### LA 2 By\n",
        "### Gowtham Karthikeyan S\n",
        "### 21BBS0157"
      ],
      "metadata": {
        "id": "qLffiC4CEPBZ"
      }
    },
    {
      "cell_type": "markdown",
      "source": [
        "# --------------------------\n",
        "Importing required modules"
      ],
      "metadata": {
        "id": "t3ie0RWwEWfk"
      }
    },
    {
      "cell_type": "code",
      "execution_count": 8,
      "metadata": {
        "id": "bfztbdOiDo-T"
      },
      "outputs": [],
      "source": [
        "import pandas as pd\n",
        "\n",
        "from sklearn.model_selection import train_test_split\n",
        "from sklearn.naive_bayes import GaussianNB\n",
        "from sklearn.metrics import accuracy_score\n",
        "\n",
        "from sklearn.cluster import KMeans\n",
        "from sklearn.preprocessing import StandardScaler\n",
        "\n",
        "from sklearn.tree import DecisionTreeClassifier\n",
        "from sklearn.model_selection import train_test_split\n",
        "from sklearn.metrics import accuracy_score\n",
        "\n",
        "from sklearn.tree import export_graphviz\n",
        "import graphviz"
      ]
    },
    {
      "cell_type": "markdown",
      "source": [
        "### Question 1"
      ],
      "metadata": {
        "id": "OdHMeCWGHDqo"
      }
    },
    {
      "cell_type": "code",
      "source": [
        "pd_df = pd.read_table('patient-data.csv', sep=None, engine='python')\n",
        "\n",
        "gender_mapping = {\"Female\": 0, \"Male\": 1}\n",
        "diet_mapping = {\n",
        "    \"Mediterranean\": 0,\n",
        "    \"Western\": 1,\n",
        "    \"Vegan\": 2,\n",
        "    \"Vegetarian\": 3,\n",
        "    \"Low-Carb\": 4,\n",
        "    \"Balanced\": 5,\n",
        "    \"Fast Food\": 6,\n",
        "    \"Low-Fat\": 7,\n",
        "    \"Processed Food\": 8,\n",
        "}\n",
        "\n",
        "pd_df[\"Gender\"] = pd_df[\"Gender\"].map(gender_mapping)\n",
        "pd_df[\"Current Diet\"] = pd_df[\"Current Diet\"].map(diet_mapping)\n",
        "pd_df[\"Strict Diet Required\"] = pd_df[\"Strict Diet Required\"].map({\"No\": 0, \"Yes\": 1})\n",
        "\n",
        "print(pd_df.head())"
      ],
      "metadata": {
        "colab": {
          "base_uri": "https://localhost:8080/"
        },
        "id": "UQ8pLzSNEKAh",
        "outputId": "1a9d141e-01ff-425b-c8cb-5bd051126a8f"
      },
      "execution_count": 9,
      "outputs": [
        {
          "output_type": "stream",
          "name": "stdout",
          "text": [
            "   RecordID  Gender  Age (Years)  Weight (kg)  Height (cm)   BMI  \\\n",
            "0         1       0           32           75          165  27.5   \n",
            "1         2       1           45           54          180  16.7   \n",
            "2         3       0           28           60          155  24.9   \n",
            "3         4       1           22           78          175  25.5   \n",
            "4         5       0           55           85          160  33.2   \n",
            "\n",
            "   Current Diet  Strict Diet Required  \n",
            "0             0                     0  \n",
            "1             1                     1  \n",
            "2             2                     0  \n",
            "3             3                     0  \n",
            "4             4                     1  \n"
          ]
        }
      ]
    },
    {
      "cell_type": "code",
      "source": [
        "X = pd_df[[\"Gender\",\"Age (Years)\",\"Weight (kg)\",\"Height (cm)\",\"BMI\",\"Current Diet\"]]\n",
        "y = pd_df[\"Strict Diet Required\"]\n",
        "\n",
        "\n",
        "X_train, X_test, y_train, y_test = train_test_split(X, y, test_size=0.2, random_state=42)\n",
        "\n",
        "nb_model = GaussianNB()\n",
        "\n",
        "nb_model.fit(X_train, y_train)\n",
        "\n",
        "y_pred = nb_model.predict(X_test)\n",
        "\n",
        "accuracy = accuracy_score(y_test, y_pred)\n",
        "print(\"Accuracy:\", accuracy)\n",
        "\n",
        "\n",
        "new_patient = [[1, 20, 64, 185, 18.7, 3]]\n",
        "\n",
        "prediction = nb_model.predict(new_patient)\n",
        "if prediction[0] == 1:\n",
        "  print(\"Strict diet is recommended for the new patient.\")\n",
        "else:\n",
        "  print(\"Strict diet is not recommended for the new patient.\")"
      ],
      "metadata": {
        "colab": {
          "base_uri": "https://localhost:8080/"
        },
        "id": "tVnK7ToGEwf9",
        "outputId": "bfe36cbb-f99b-4159-f81b-5ea3d9941af8"
      },
      "execution_count": 10,
      "outputs": [
        {
          "output_type": "stream",
          "name": "stdout",
          "text": [
            "Accuracy: 0.9\n",
            "Strict diet is not recommended for the new patient.\n"
          ]
        },
        {
          "output_type": "stream",
          "name": "stderr",
          "text": [
            "/usr/local/lib/python3.10/dist-packages/sklearn/base.py:465: UserWarning: X does not have valid feature names, but GaussianNB was fitted with feature names\n",
            "  warnings.warn(\n"
          ]
        }
      ]
    },
    {
      "cell_type": "markdown",
      "source": [
        "### Question 2"
      ],
      "metadata": {
        "id": "p7qJP0lME0yH"
      }
    },
    {
      "cell_type": "code",
      "source": [
        "X_cluster = pd_df[[\"Age (Years)\", \"Weight (kg)\", \"Height (cm)\", \"BMI\"]]\n",
        "\n",
        "scaler = StandardScaler()\n",
        "X_scaled = scaler.fit_transform(X_cluster)\n",
        "\n",
        "kmeans = KMeans(n_clusters=3, random_state=42)\n",
        "kmeans.fit(X_scaled)\n",
        "\n",
        "pd_df[\"Cluster\"] = kmeans.labels_\n",
        "\n",
        "cluster_mapping = {\n",
        "    0: \"Normal\",\n",
        "    1: \"Healthy\",\n",
        "    2: \"Weak\",\n",
        "}\n",
        "pd_df[\"Cluster_Category\"] = pd_df[\"Cluster\"].map(cluster_mapping)\n",
        "\n",
        "print(pd_df.head())\n",
        "\n",
        "new_patient_data = [[20, 64, 185, 18.7]]\n",
        "new_patient_scaled = scaler.transform(new_patient_data)\n",
        "new_patient_cluster = kmeans.predict(new_patient_scaled)[0]\n",
        "new_patient_category = cluster_mapping[new_patient_cluster]\n",
        "print(f\"New patient classified as: {new_patient_category}\")"
      ],
      "metadata": {
        "colab": {
          "base_uri": "https://localhost:8080/"
        },
        "id": "MnjiiyGyE0S0",
        "outputId": "1e88027a-592d-4ba7-8bae-feba667c1e82"
      },
      "execution_count": 11,
      "outputs": [
        {
          "output_type": "stream",
          "name": "stdout",
          "text": [
            "   RecordID  Gender  Age (Years)  Weight (kg)  Height (cm)   BMI  \\\n",
            "0         1       0           32           75          165  27.5   \n",
            "1         2       1           45           54          180  16.7   \n",
            "2         3       0           28           60          155  24.9   \n",
            "3         4       1           22           78          175  25.5   \n",
            "4         5       0           55           85          160  33.2   \n",
            "\n",
            "   Current Diet  Strict Diet Required  Cluster Cluster_Category  \n",
            "0             0                     0        2             Weak  \n",
            "1             1                     1        2             Weak  \n",
            "2             2                     0        2             Weak  \n",
            "3             3                     0        1          Healthy  \n",
            "4             4                     1        0           Normal  \n",
            "New patient classified as: Weak\n"
          ]
        },
        {
          "output_type": "stream",
          "name": "stderr",
          "text": [
            "/usr/local/lib/python3.10/dist-packages/sklearn/cluster/_kmeans.py:1416: FutureWarning: The default value of `n_init` will change from 10 to 'auto' in 1.4. Set the value of `n_init` explicitly to suppress the warning\n",
            "  super()._check_params_vs_input(X, default_n_init=10)\n",
            "/usr/local/lib/python3.10/dist-packages/sklearn/base.py:465: UserWarning: X does not have valid feature names, but StandardScaler was fitted with feature names\n",
            "  warnings.warn(\n"
          ]
        }
      ]
    },
    {
      "cell_type": "markdown",
      "source": [
        "### Question 3"
      ],
      "metadata": {
        "id": "mSgHlx_qFGeL"
      }
    },
    {
      "cell_type": "code",
      "source": [
        "road_df = pd.read_table('road-data.csv', sep=None, engine='python')\n",
        "\n",
        "gender_mapping = {\"Low\": 0, \"Moderate\": 1, \"High\": 2}\n",
        "\n",
        "road_df[\"Accident Risk\"] = road_df[\"Accident Risk\"].map(gender_mapping)\n",
        "\n",
        "print(road_df.head())"
      ],
      "metadata": {
        "colab": {
          "base_uri": "https://localhost:8080/"
        },
        "id": "hiC5OKIGE67T",
        "outputId": "9e00b8a7-1515-4aed-fea9-3b823555697e"
      },
      "execution_count": 12,
      "outputs": [
        {
          "output_type": "stream",
          "name": "stdout",
          "text": [
            "  Road ID  Length (km)  Number of Bends  Traffic Volume (vehicles/hour)  \\\n",
            "0      R1           10                5                            2000   \n",
            "1      R2           15                3                            1500   \n",
            "2      R3            8                8                            2500   \n",
            "3      R4           20                2                            1000   \n",
            "4      R5           12                6                            2200   \n",
            "\n",
            "   Accident Risk  \n",
            "0              2  \n",
            "1              1  \n",
            "2              2  \n",
            "3              0  \n",
            "4              2  \n"
          ]
        }
      ]
    },
    {
      "cell_type": "code",
      "source": [
        "X = road_df[[\"Length (km)\",  \"Number of Bends\",  \"Traffic Volume (vehicles/hour)\"]]\n",
        "y = road_df['Accident Risk']\n",
        "\n",
        "X_train, X_test, y_train, y_test = train_test_split(X, y, test_size=0.2, random_state=42)\n",
        "\n",
        "dt_model = DecisionTreeClassifier(criterion='entropy', random_state=42)\n",
        "\n",
        "dt_model.fit(X_train, y_train)\n",
        "\n",
        "y_pred = dt_model.predict(X_test)\n",
        "\n",
        "accuracy = accuracy_score(y_test, y_pred)\n",
        "print(\"Accuracy:\", accuracy)\n",
        "\n",
        "dot_data = export_graphviz(dt_model, out_file=None,\n",
        "                           feature_names=X.columns,\n",
        "                           class_names=['Low', 'Moderate', 'High'],\n",
        "                           filled=True, rounded=True,\n",
        "                           special_characters=True)\n",
        "graph = graphviz.Source(dot_data)\n",
        "graph"
      ],
      "metadata": {
        "colab": {
          "base_uri": "https://localhost:8080/",
          "height": 457
        },
        "id": "2kljfauRFI8A",
        "outputId": "3ff8f3fc-aebe-420a-b974-3588e868017c"
      },
      "execution_count": 13,
      "outputs": [
        {
          "output_type": "stream",
          "name": "stdout",
          "text": [
            "Accuracy: 1.0\n"
          ]
        },
        {
          "output_type": "execute_result",
          "data": {
            "image/svg+xml": "<?xml version=\"1.0\" encoding=\"UTF-8\" standalone=\"no\"?>\n<!DOCTYPE svg PUBLIC \"-//W3C//DTD SVG 1.1//EN\"\n \"http://www.w3.org/Graphics/SVG/1.1/DTD/svg11.dtd\">\n<!-- Generated by graphviz version 2.43.0 (0)\n -->\n<!-- Title: Tree Pages: 1 -->\n<svg width=\"396pt\" height=\"314pt\"\n viewBox=\"0.00 0.00 395.50 314.00\" xmlns=\"http://www.w3.org/2000/svg\" xmlns:xlink=\"http://www.w3.org/1999/xlink\">\n<g id=\"graph0\" class=\"graph\" transform=\"scale(1 1) rotate(0) translate(4 310)\">\n<title>Tree</title>\n<polygon fill=\"white\" stroke=\"transparent\" points=\"-4,4 -4,-310 391.5,-310 391.5,4 -4,4\"/>\n<!-- 0 -->\n<g id=\"node1\" class=\"node\">\n<title>0</title>\n<path fill=\"#d1b6f5\" stroke=\"black\" d=\"M293,-306C293,-306 161,-306 161,-306 155,-306 149,-300 149,-294 149,-294 149,-235 149,-235 149,-229 155,-223 161,-223 161,-223 293,-223 293,-223 299,-223 305,-229 305,-235 305,-235 305,-294 305,-294 305,-300 299,-306 293,-306\"/>\n<text text-anchor=\"start\" x=\"157\" y=\"-290.8\" font-family=\"Helvetica,sans-Serif\" font-size=\"14.00\">Number of Bends ≤ 4.5</text>\n<text text-anchor=\"start\" x=\"179.5\" y=\"-275.8\" font-family=\"Helvetica,sans-Serif\" font-size=\"14.00\">entropy = 1.472</text>\n<text text-anchor=\"start\" x=\"186\" y=\"-260.8\" font-family=\"Helvetica,sans-Serif\" font-size=\"14.00\">samples = 40</text>\n<text text-anchor=\"start\" x=\"172.5\" y=\"-245.8\" font-family=\"Helvetica,sans-Serif\" font-size=\"14.00\">value = [9, 10, 21]</text>\n<text text-anchor=\"start\" x=\"189.5\" y=\"-230.8\" font-family=\"Helvetica,sans-Serif\" font-size=\"14.00\">class = High</text>\n</g>\n<!-- 1 -->\n<g id=\"node2\" class=\"node\">\n<title>1</title>\n<path fill=\"#ebfcf2\" stroke=\"black\" d=\"M240,-187C240,-187 12,-187 12,-187 6,-187 0,-181 0,-175 0,-175 0,-116 0,-116 0,-110 6,-104 12,-104 12,-104 240,-104 240,-104 246,-104 252,-110 252,-116 252,-116 252,-175 252,-175 252,-181 246,-187 240,-187\"/>\n<text text-anchor=\"start\" x=\"8\" y=\"-171.8\" font-family=\"Helvetica,sans-Serif\" font-size=\"14.00\">Traffic Volume (vehicles/hour) ≤ 1350.0</text>\n<text text-anchor=\"start\" x=\"78.5\" y=\"-156.8\" font-family=\"Helvetica,sans-Serif\" font-size=\"14.00\">entropy = 0.998</text>\n<text text-anchor=\"start\" x=\"85\" y=\"-141.8\" font-family=\"Helvetica,sans-Serif\" font-size=\"14.00\">samples = 19</text>\n<text text-anchor=\"start\" x=\"75.5\" y=\"-126.8\" font-family=\"Helvetica,sans-Serif\" font-size=\"14.00\">value = [9, 10, 0]</text>\n<text text-anchor=\"start\" x=\"73.5\" y=\"-111.8\" font-family=\"Helvetica,sans-Serif\" font-size=\"14.00\">class = Moderate</text>\n</g>\n<!-- 0&#45;&gt;1 -->\n<g id=\"edge1\" class=\"edge\">\n<title>0&#45;&gt;1</title>\n<path fill=\"none\" stroke=\"black\" d=\"M191.96,-222.91C184.12,-213.83 175.74,-204.12 167.67,-194.77\"/>\n<polygon fill=\"black\" stroke=\"black\" points=\"170.16,-192.3 160.98,-187.02 164.86,-196.88 170.16,-192.3\"/>\n<text text-anchor=\"middle\" x=\"159.15\" y=\"-208.25\" font-family=\"Helvetica,sans-Serif\" font-size=\"14.00\">True</text>\n</g>\n<!-- 4 -->\n<g id=\"node5\" class=\"node\">\n<title>4</title>\n<path fill=\"#8139e5\" stroke=\"black\" d=\"M375.5,-179.5C375.5,-179.5 282.5,-179.5 282.5,-179.5 276.5,-179.5 270.5,-173.5 270.5,-167.5 270.5,-167.5 270.5,-123.5 270.5,-123.5 270.5,-117.5 276.5,-111.5 282.5,-111.5 282.5,-111.5 375.5,-111.5 375.5,-111.5 381.5,-111.5 387.5,-117.5 387.5,-123.5 387.5,-123.5 387.5,-167.5 387.5,-167.5 387.5,-173.5 381.5,-179.5 375.5,-179.5\"/>\n<text text-anchor=\"start\" x=\"289\" y=\"-164.3\" font-family=\"Helvetica,sans-Serif\" font-size=\"14.00\">entropy = 0.0</text>\n<text text-anchor=\"start\" x=\"288\" y=\"-149.3\" font-family=\"Helvetica,sans-Serif\" font-size=\"14.00\">samples = 21</text>\n<text text-anchor=\"start\" x=\"278.5\" y=\"-134.3\" font-family=\"Helvetica,sans-Serif\" font-size=\"14.00\">value = [0, 0, 21]</text>\n<text text-anchor=\"start\" x=\"291.5\" y=\"-119.3\" font-family=\"Helvetica,sans-Serif\" font-size=\"14.00\">class = High</text>\n</g>\n<!-- 0&#45;&gt;4 -->\n<g id=\"edge4\" class=\"edge\">\n<title>0&#45;&gt;4</title>\n<path fill=\"none\" stroke=\"black\" d=\"M262.39,-222.91C272.39,-211.43 283.28,-198.94 293.31,-187.44\"/>\n<polygon fill=\"black\" stroke=\"black\" points=\"296.15,-189.5 300.09,-179.67 290.88,-184.9 296.15,-189.5\"/>\n<text text-anchor=\"middle\" x=\"301.79\" y=\"-200.91\" font-family=\"Helvetica,sans-Serif\" font-size=\"14.00\">False</text>\n</g>\n<!-- 2 -->\n<g id=\"node3\" class=\"node\">\n<title>2</title>\n<path fill=\"#e58139\" stroke=\"black\" d=\"M102,-68C102,-68 16,-68 16,-68 10,-68 4,-62 4,-56 4,-56 4,-12 4,-12 4,-6 10,0 16,0 16,0 102,0 102,0 108,0 114,-6 114,-12 114,-12 114,-56 114,-56 114,-62 108,-68 102,-68\"/>\n<text text-anchor=\"start\" x=\"19\" y=\"-52.8\" font-family=\"Helvetica,sans-Serif\" font-size=\"14.00\">entropy = 0.0</text>\n<text text-anchor=\"start\" x=\"21.5\" y=\"-37.8\" font-family=\"Helvetica,sans-Serif\" font-size=\"14.00\">samples = 9</text>\n<text text-anchor=\"start\" x=\"12\" y=\"-22.8\" font-family=\"Helvetica,sans-Serif\" font-size=\"14.00\">value = [9, 0, 0]</text>\n<text text-anchor=\"start\" x=\"23\" y=\"-7.8\" font-family=\"Helvetica,sans-Serif\" font-size=\"14.00\">class = Low</text>\n</g>\n<!-- 1&#45;&gt;2 -->\n<g id=\"edge2\" class=\"edge\">\n<title>1&#45;&gt;2</title>\n<path fill=\"none\" stroke=\"black\" d=\"M101.05,-103.73C95.69,-94.97 90.02,-85.7 84.64,-76.91\"/>\n<polygon fill=\"black\" stroke=\"black\" points=\"87.58,-75 79.38,-68.3 81.61,-78.66 87.58,-75\"/>\n</g>\n<!-- 3 -->\n<g id=\"node4\" class=\"node\">\n<title>3</title>\n<path fill=\"#39e581\" stroke=\"black\" d=\"M241.5,-68C241.5,-68 144.5,-68 144.5,-68 138.5,-68 132.5,-62 132.5,-56 132.5,-56 132.5,-12 132.5,-12 132.5,-6 138.5,0 144.5,0 144.5,0 241.5,0 241.5,0 247.5,0 253.5,-6 253.5,-12 253.5,-12 253.5,-56 253.5,-56 253.5,-62 247.5,-68 241.5,-68\"/>\n<text text-anchor=\"start\" x=\"153\" y=\"-52.8\" font-family=\"Helvetica,sans-Serif\" font-size=\"14.00\">entropy = 0.0</text>\n<text text-anchor=\"start\" x=\"152\" y=\"-37.8\" font-family=\"Helvetica,sans-Serif\" font-size=\"14.00\">samples = 10</text>\n<text text-anchor=\"start\" x=\"142.5\" y=\"-22.8\" font-family=\"Helvetica,sans-Serif\" font-size=\"14.00\">value = [0, 10, 0]</text>\n<text text-anchor=\"start\" x=\"140.5\" y=\"-7.8\" font-family=\"Helvetica,sans-Serif\" font-size=\"14.00\">class = Moderate</text>\n</g>\n<!-- 1&#45;&gt;3 -->\n<g id=\"edge3\" class=\"edge\">\n<title>1&#45;&gt;3</title>\n<path fill=\"none\" stroke=\"black\" d=\"M150.95,-103.73C156.31,-94.97 161.98,-85.7 167.36,-76.91\"/>\n<polygon fill=\"black\" stroke=\"black\" points=\"170.39,-78.66 172.62,-68.3 164.42,-75 170.39,-78.66\"/>\n</g>\n</g>\n</svg>\n",
            "text/plain": [
              "<graphviz.sources.Source at 0x7cdcd326ffd0>"
            ]
          },
          "metadata": {},
          "execution_count": 13
        }
      ]
    }
  ]
}