{
  "nbformat": 4,
  "nbformat_minor": 0,
  "metadata": {
    "colab": {
      "provenance": []
    },
    "kernelspec": {
      "name": "python3",
      "display_name": "Python 3"
    },
    "language_info": {
      "name": "python"
    }
  },
  "cells": [
    {
      "cell_type": "markdown",
      "source": [
        "**Gowtham Karthikeyan S**\n",
        "\n",
        "**21BBS0157**\n",
        "\n",
        "*Course:* Data Mining and Analytics (CBS3007)"
      ],
      "metadata": {
        "id": "fI0Ca1IgUtGx"
      }
    },
    {
      "cell_type": "markdown",
      "source": [
        "\n",
        "\n",
        "---\n",
        "\n",
        "# Importing Necessary Modules:"
      ],
      "metadata": {
        "id": "_XZWMLdzOWGV"
      }
    },
    {
      "cell_type": "code",
      "execution_count": 1,
      "metadata": {
        "id": "lhrNOPpZOOMf"
      },
      "outputs": [],
      "source": [
        "import pandas as pd\n",
        "from sklearn.model_selection import train_test_split\n",
        "from sklearn.neighbors import KNeighborsClassifier\n",
        "from sklearn.preprocessing import LabelEncoder\n",
        "from sklearn.metrics import accuracy_score\n",
        "\n",
        "\n",
        "from sklearn.naive_bayes import GaussianNB"
      ]
    },
    {
      "cell_type": "markdown",
      "source": [
        "\n",
        "\n",
        "---\n",
        "\n"
      ],
      "metadata": {
        "id": "Joey1icqUh4X"
      }
    },
    {
      "cell_type": "markdown",
      "source": [
        "# **Question 1:**\n",
        "\n",
        "Consider a dataset of 50 user records with the attributes “Name”, “location” ,“Height”, “Weight”, ”Age”. Do the following tasks.\n",
        "\n",
        "i) Create the dataset for the attributes given.\n",
        "\n",
        "ii) Implement the Demo on Classification Technique using KNN."
      ],
      "metadata": {
        "id": "n6yJmDnXOaRD"
      }
    },
    {
      "cell_type": "markdown",
      "source": [
        "# **Answer:**\n",
        "\n",
        "i) The created dataset is added to the github and drive"
      ],
      "metadata": {
        "id": "y-mNy1ISTdND"
      }
    },
    {
      "cell_type": "code",
      "source": [
        "#ii)\n",
        "\n",
        "df = pd.read_csv('dataset1.csv')\n",
        "\n",
        "X = df[['height', 'weight', 'age']]\n",
        "y = df['location']\n",
        "\n",
        "le = LabelEncoder()\n",
        "y_encoded = le.fit_transform(y)\n",
        "\n",
        "X_train, X_test, y_train, y_test = train_test_split(X, y_encoded, test_size=0.2, random_state=0)\n",
        "\n",
        "knn = KNeighborsClassifier(n_neighbors=2)\n",
        "knn.fit(X_train, y_train)\n",
        "\n",
        "y_pred = knn.predict(X_test)\n",
        "y_pred_decoded = le.inverse_transform(y_pred)\n",
        "\n",
        "accuracy = accuracy_score(y_test, y_pred)\n",
        "print(\"Predicted locations:\", y_pred_decoded)\n",
        "print(\"Model accuracy:\", accuracy)"
      ],
      "metadata": {
        "colab": {
          "base_uri": "https://localhost:8080/"
        },
        "id": "wNYTojMbOZ2B",
        "outputId": "3576507c-847e-48fd-dbee-8420b929c5c0"
      },
      "execution_count": 2,
      "outputs": [
        {
          "output_type": "stream",
          "name": "stdout",
          "text": [
            "Predicted locations: ['Hyderabad' 'Chennai' 'Bangalore' 'Hyderabad' 'Bangalore' 'Bangalore'\n",
            " 'Bangalore' 'Bangalore' 'Chennai' 'Bangalore']\n",
            "Model accuracy: 0.4\n"
          ]
        }
      ]
    },
    {
      "cell_type": "markdown",
      "source": [
        "\n",
        "\n",
        "---\n",
        "\n"
      ],
      "metadata": {
        "id": "QKGklGjjUKsc"
      }
    },
    {
      "cell_type": "markdown",
      "source": [
        "# **Question 2:**\n",
        "\n",
        "A probabilistic based learning algorithm used for classifying the following data that depicts the people choice of buying the phone. Apply the same to identify the probability of getting loan approval for the case age 30-70, has criminal record and More than 5 year exp.\n",
        "\n"
      ],
      "metadata": {
        "id": "eguKGjvbULE8"
      }
    },
    {
      "cell_type": "markdown",
      "source": [
        "# **Answer**"
      ],
      "metadata": {
        "id": "M1jTFvJDUlwy"
      }
    },
    {
      "cell_type": "code",
      "source": [
        "data = {\n",
        "    'Income': ['<30', '30-70', '30-70', '30-70', '30-70', '30-70', '>70', '>70', '<30', '30-70', '30-70', '30-70'],\n",
        "    'Criminal Record': ['No', 'Yes', 'No', 'Yes', 'No', 'Yes', 'Yes', 'No', 'Yes', 'No', 'No', 'Yes'],\n",
        "    'EXP': ['1-5', '1', '1', '1-5', '>5', '1-5', '>5', '>5', '1-5', '1-5', '1-5', '>5'],\n",
        "    'Loan Approved': ['Yes', 'No', 'No', 'Yes', 'Yes', 'No', 'Yes', 'No', 'No', 'Yes', 'No', 'Yes']\n",
        "}\n",
        "\n",
        "\n",
        "df = pd.DataFrame(data)\n",
        "\n",
        "label_encoders = {}\n",
        "for column in df.columns:\n",
        "    le = LabelEncoder()\n",
        "    df[column] = le.fit_transform(df[column])\n",
        "    label_encoders[column] = le\n",
        "\n",
        "X = df[['Income', 'Criminal Record', 'EXP']]\n",
        "y = df['Loan Approved']\n",
        "\n",
        "model = GaussianNB()\n",
        "model.fit(X, y)\n",
        "\n",
        "input_data = [[label_encoders['Income'].transform(['30-70'])[0],\n",
        "               label_encoders['Criminal Record'].transform(['Yes'])[0],\n",
        "               label_encoders['EXP'].transform(['>5'])[0]]]\n",
        "\n",
        "predicted_probability = model.predict_proba(input_data)\n",
        "\n",
        "approval_prob = predicted_probability[0][1] * 100\n",
        "print(f\"Probability of loan approval: {approval_prob:.2f}%\\n\")"
      ],
      "metadata": {
        "colab": {
          "base_uri": "https://localhost:8080/"
        },
        "id": "cAbIZ1yKUcTl",
        "outputId": "b0da8fef-fdc3-4fbc-e344-8876cec625b9"
      },
      "execution_count": 3,
      "outputs": [
        {
          "output_type": "stream",
          "name": "stdout",
          "text": [
            "Probability of loan approval: 77.89%\n",
            "\n"
          ]
        },
        {
          "output_type": "stream",
          "name": "stderr",
          "text": [
            "/usr/local/lib/python3.10/dist-packages/sklearn/base.py:493: UserWarning: X does not have valid feature names, but GaussianNB was fitted with feature names\n",
            "  warnings.warn(\n"
          ]
        }
      ]
    }
  ]
}